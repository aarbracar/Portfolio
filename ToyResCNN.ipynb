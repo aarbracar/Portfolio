{
 "cells": [
  {
   "cell_type": "code",
   "execution_count": 1,
   "metadata": {},
   "outputs": [],
   "source": [
    "import tensorflow as tf\n",
    "import numpy as np\n",
    "import matplotlib.pyplot as plt\n",
    "from tensorflow.keras import layers, Input, Model \n",
    "from tensorflow.keras.callbacks import ModelCheckpoint"
   ]
  },
  {
   "cell_type": "code",
   "execution_count": 2,
   "metadata": {},
   "outputs": [
    {
     "name": "stdout",
     "output_type": "stream",
     "text": [
      "xTrain shape =  (60000, 28, 28) yTrain shape =  (60000,)\n"
     ]
    }
   ],
   "source": [
    "# fashion mnist row = 1Image\n",
    "#28x28 = 784 pixel images (greyscale)\n",
    "#each pixel is assigned a greyscale value from 1 to 255\n",
    "#10 possible labels\n",
    "\n",
    "\n",
    "(xTrain, yTrain), (xTest, yTest) = tf.keras.datasets.fashion_mnist.load_data()\n",
    "\n",
    "print(\"xTrain shape = \", xTrain.shape, \"yTrain shape = \", yTrain.shape)"
   ]
  },
  {
   "cell_type": "code",
   "execution_count": 3,
   "metadata": {},
   "outputs": [
    {
     "name": "stdout",
     "output_type": "stream",
     "text": [
      "xTrain shape =  (60000, 28, 28) yTrain shape =  (60000,)\n",
      "60000 train set\n",
      "10000 test set\n",
      "y = 8 Bag\n"
     ]
    },
    {
     "data": {
      "text/plain": [
       "<matplotlib.image.AxesImage at 0x1b75e245198>"
      ]
     },
     "execution_count": 3,
     "metadata": {},
     "output_type": "execute_result"
    },
    {
     "data": {
      "image/png": "[encoded data removed]",
      "text/plain": [
       "<Figure size 432x288 with 1 Axes>"
      ]
     },
     "metadata": {
      "needs_background": "light"
     },
     "output_type": "display_data"
    }
   ],
   "source": [
    "print(\"xTrain shape = \", xTrain.shape, \"yTrain shape = \", yTrain.shape)\n",
    "print(xTrain.shape[0], \"train set\")\n",
    "print(xTest.shape[0], \"test set\")\n",
    "labels = [\"T-shirt/Top\", \"Trousers\", \"Pullover\", \"Dress\", \"Coat\", \"Sandal\", \"Shirt\", \"Sneakers\", \"Bag\", \"Ankle boots\"]\n",
    "\n",
    "imgIndex = 10000\n",
    "labelIndex = yTrain[imgIndex]\n",
    "print(\"y = \" + str(labelIndex) + \" \" + (labels[labelIndex]))\n",
    "plt.imshow(xTrain[imgIndex])"
   ]
  },
  {
   "cell_type": "code",
   "execution_count": 4,
   "metadata": {},
   "outputs": [
    {
     "name": "stdout",
     "output_type": "stream",
     "text": [
      "xTrain shape =  (55000, 28, 28, 1) yTrain shape =  (55000, 10)\n",
      "55000 train set\n",
      "5000 validation set\n",
      "10000 test set\n"
     ]
    }
   ],
   "source": [
    "xTrain = xTrain.astype('float32') / 255\n",
    "xTest = xTest.astype('float32') / 255\n",
    "\n",
    "(xTrain, xValid) = xTrain[5000:], xTrain[:5000]\n",
    "(yTrain, yValid) = yTrain[5000:], yTrain[:5000]\n",
    "\n",
    "w, h = 28, 28\n",
    "xTrain = xTrain.reshape(xTrain.shape[0], w, h, 1)\n",
    "xValid = xValid.reshape(xValid.shape[0], w, h, 1)\n",
    "xTest =  xTest.reshape(xTest.shape[0], w, h, 1)\n",
    "\n",
    "yTrain = tf.keras.utils.to_categorical(yTrain, 10)\n",
    "yValid = tf.keras.utils.to_categorical(yValid, 10)\n",
    "yTest = tf.keras.utils.to_categorical(yTest, 10)\n",
    "\n",
    "print(\"xTrain shape = \" , xTrain.shape, \"yTrain shape = \", yTrain.shape)\n",
    "print(xTrain.shape[0], \"train set\")\n",
    "print(xValid.shape[0], 'validation set')\n",
    "print(xTest.shape[0], 'test set')"
   ]
  },
  {
   "cell_type": "code",
   "execution_count": 8,
   "metadata": {},
   "outputs": [],
   "source": [
    "input = tf.keras.Input(shape=(28, 28, 1 )) # sets \"input\" equal to a 2 dimensional placeholder tensor of shape (28x28x1)\n",
    "\n",
    "a = layers.LeakyReLU(.3)(input)\n",
    "a = layers.LeakyReLU(.1)(a)\n",
    "a = layers.Dense(32)(a)\n",
    "a = layers.LeakyReLU(.2)(a)\n",
    "a = layers.Dense(32)(a)\n",
    "a = layers.Dense(32)(a)\n",
    "a = layers.Dropout(.4)(a)\n",
    "\n",
    "# call layer instance on input tensor and set x equal to the resulting tensor\n",
    "x = layers.Conv2D(filters=128, kernel_size=4, dilation_rate=1, activation='relu', padding='same')(input)\n",
    "# print(x.shape)\n",
    "x = layers.Dense(64, activation='relu')(x)\n",
    "# print(x.shape)\n",
    "x = layers.Conv2D(filters=64, kernel_size=4, dilation_rate=2, activation='relu', padding='same')(x)\n",
    "# print(x.shape)\n",
    "x = layers.Dense(32, activation='relu')(x)\n",
    "# print(x.shape)\n",
    "x = layers.Conv2D(filters=32, kernel_size=4, dilation_rate=2, activation='relu', padding='same')(x)\n",
    "# print(x.shape)\n",
    "x = layers.Dense(32, activation='relu')(x)\n",
    "# print(x.shape)\n",
    "# print(a.shape)\n",
    "x = layers.Dropout(.4)(x)\n",
    "x = layers.Dot(1)([x, a])#this should be tested in different locations (with a primary focus on closeness to output)\n",
    "x = layers.Dense(32, activation='relu')(x)\n",
    "x = layers.Dense(16, activation='relu')(x)\n",
    "x = layers.Dense(16, activation='relu')(x)\n",
    "x = layers.Flatten()(x)\n",
    "output = layers.Dense(10, activation='softmax')(x)\n"
   ]
  },
  {
   "cell_type": "code",
   "execution_count": 25,
   "metadata": {},
   "outputs": [],
   "source": [
    "model = tf.keras.Model(inputs=input, outputs=output)\n",
    "\n",
    "model.compile(optimizer=tf.keras.optimizers.Adam(),\n",
    "              loss='categorical_crossentropy',\n",
    "              metrics=['accuracy'])"
   ]
  },
  {
   "cell_type": "code",
   "execution_count": null,
   "metadata": {},
   "outputs": [],
   "source": [
    "checkpoint = ModelCheckpoint(filepath='model.weights.best.hdf5', verbose = 1, save_best_only=True)\n",
    "model.fit(xTrain,\n",
    "         yTrain,\n",
    "         batch_size=50,\n",
    "         epochs=5,\n",
    "         validation_data=(xValid, yValid),\n",
    "          callbacks=[checkpoint])"
   ]
  },
  {
   "cell_type": "code",
   "execution_count": null,
   "metadata": {},
   "outputs": [],
   "source": []
  }
 ],
 "metadata": {
  "kernelspec": {
   "display_name": "Python 3",
   "language": "python",
   "name": "python3"
  },
  "language_info": {
   "codemirror_mode": {
    "name": "ipython",
    "version": 3
   },
   "file_extension": ".py",
   "mimetype": "text/x-python",
   "name": "python",
   "nbconvert_exporter": "python",
   "pygments_lexer": "ipython3",
   "version": "3.7.3"
  }
 },
 "nbformat": 4,
 "nbformat_minor": 2
}
